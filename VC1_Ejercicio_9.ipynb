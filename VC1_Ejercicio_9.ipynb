{
  "nbformat": 4,
  "nbformat_minor": 0,
  "metadata": {
    "colab": {
      "provenance": [],
      "authorship_tag": "ABX9TyNWYcZsrmKN2EHt/IybS/0F",
      "include_colab_link": true
    },
    "kernelspec": {
      "name": "python3",
      "display_name": "Python 3"
    },
    "language_info": {
      "name": "python"
    }
  },
  "cells": [
    {
      "cell_type": "markdown",
      "metadata": {
        "id": "view-in-github",
        "colab_type": "text"
      },
      "source": [
        "<a href=\"https://colab.research.google.com/github/MauricioCastroF/VC_Ejercicios/blob/main/VC1_Ejercicio_9.ipynb\" target=\"_parent\"><img src=\"https://colab.research.google.com/assets/colab-badge.svg\" alt=\"Open In Colab\"/></a>"
      ]
    },
    {
      "cell_type": "code",
      "execution_count": 1,
      "metadata": {
        "colab": {
          "base_uri": "https://localhost:8080/"
        },
        "id": "R7bzPxN66F_9",
        "outputId": "c09d749f-bcfb-43be-82f6-46be68d82892"
      },
      "outputs": [
        {
          "output_type": "stream",
          "name": "stdout",
          "text": [
            "Cloning into 'vision_computadora_I'...\n",
            "remote: Enumerating objects: 488, done.\u001b[K\n",
            "remote: Total 488 (delta 0), reused 0 (delta 0), pack-reused 488\u001b[K\n",
            "Receiving objects: 100% (488/488), 148.29 MiB | 19.66 MiB/s, done.\n",
            "Resolving deltas: 100% (154/154), done.\n",
            "Branch '8va-cohorte' set up to track remote branch '8va-cohorte' from 'origin'.\n",
            "Switched to a new branch '8va-cohorte'\n"
          ]
        }
      ],
      "source": [
        "!git clone https://github.com/FIUBA-Posgrado-Inteligencia-Artificial/vision_computadora_I.git\n",
        "!cd vision_computadora_I && git checkout 8va-cohorte"
      ]
    },
    {
      "cell_type": "code",
      "source": [
        "cd vision_computadora_I"
      ],
      "metadata": {
        "colab": {
          "base_uri": "https://localhost:8080/"
        },
        "id": "CgLXLOxg6OY9",
        "outputId": "bce498b8-cffd-4554-8243-7a1794315bed"
      },
      "execution_count": 2,
      "outputs": [
        {
          "output_type": "stream",
          "name": "stdout",
          "text": [
            "/content/vision_computadora_I\n"
          ]
        }
      ]
    },
    {
      "cell_type": "code",
      "source": [
        "cd Codigo"
      ],
      "metadata": {
        "colab": {
          "base_uri": "https://localhost:8080/"
        },
        "id": "koJ73dZP6QBt",
        "outputId": "66271bde-c834-44b8-f1d7-1d62889de579"
      },
      "execution_count": 3,
      "outputs": [
        {
          "output_type": "stream",
          "name": "stdout",
          "text": [
            "/content/vision_computadora_I/Codigo\n"
          ]
        }
      ]
    },
    {
      "cell_type": "code",
      "source": [
        "cd Clase2"
      ],
      "metadata": {
        "colab": {
          "base_uri": "https://localhost:8080/"
        },
        "id": "mi2ftfqV6Rd3",
        "outputId": "b037f752-fb2f-4d9c-ad83-10002c43b895"
      },
      "execution_count": 4,
      "outputs": [
        {
          "output_type": "stream",
          "name": "stdout",
          "text": [
            "/content/vision_computadora_I/Codigo/Clase2\n"
          ]
        }
      ]
    },
    {
      "cell_type": "markdown",
      "source": [
        "# **Binarización**"
      ],
      "metadata": {
        "id": "zSHfcLuX6aG4"
      }
    },
    {
      "cell_type": "code",
      "source": [
        "import numpy as np\n",
        "import cv2 as cv\n",
        "import matplotlib.pyplot as plt"
      ],
      "metadata": {
        "id": "h0vL5UjH6cH5"
      },
      "execution_count": 5,
      "outputs": []
    },
    {
      "cell_type": "code",
      "source": [
        "# Cargar una imagen en modo monocromático (un canal)\n",
        "#img = cv.imread('imgBloque1.bmp',cv.IMREAD_GRAYSCALE)\n",
        "img = cv.imread('mib-alien.jpg', cv.IMREAD_GRAYSCALE)"
      ],
      "metadata": {
        "id": "SNeUh22f6fBk"
      },
      "execution_count": 6,
      "outputs": []
    },
    {
      "cell_type": "markdown",
      "source": [
        "# **Ejercicio de binarización por umbral fijo**"
      ],
      "metadata": {
        "id": "JJC9NS8E6kWW"
      }
    },
    {
      "cell_type": "code",
      "source": [
        "# Funcion de binarización (a mano)\n",
        "def global_threshold(image, thres_value, val_high, val_low):\n",
        "    img = image.copy()\n",
        "    for i in range(image.shape[0]):\n",
        "        for j in range(image.shape[1]):\n",
        "            if image[i,j] > thres_value:\n",
        "                img[i,j] = val_high\n",
        "            else:\n",
        "                img[i,j] = val_low\n",
        "    return img"
      ],
      "metadata": {
        "id": "g0J6ezV86ick"
      },
      "execution_count": 7,
      "outputs": []
    },
    {
      "cell_type": "markdown",
      "source": [
        "# **Comparación entre tipos de binarización (Fijo, Otsu, Mediana)**"
      ],
      "metadata": {
        "id": "nka553Hi6sis"
      }
    },
    {
      "cell_type": "code",
      "source": [
        "# Nueva figura\n",
        "fig = plt.figure()\n",
        "\n",
        "# Imagen binarizada (a mano - Fijo)\n",
        "ax2=plt.subplot(221)\n",
        "img_bin = global_threshold(img, 120, 255, 0);\n",
        "ax2.imshow(img_bin,cmap='gray', vmin=0, vmax=1)\n",
        "ax2.set_title('Binarizada a mano')\n",
        "\n",
        "# Imagen binarizada (embebida - Fijo) - Parámetros: Imag_original,umbral,valor_máximo,método\n",
        "ax3=plt.subplot(222)\n",
        "ret, thresh = cv.threshold(img,120, 255, cv.THRESH_BINARY)\n",
        "ax3.imshow(thresh,cmap='gray', vmin=0, vmax=1)\n",
        "ax3.set_title('Binarizada OpenCV, Fijo')\n",
        "\n",
        "# Imagen binarizada (embebida - Otsu) - Parámetros: Imag_original,umbral,valor_máximo,método\n",
        "ax4=plt.subplot(223)\n",
        "ret, thresh = cv.threshold(img,120,255,cv.THRESH_BINARY+cv.THRESH_OTSU)\n",
        "ax4.imshow(thresh,cmap='gray', vmin=0, vmax=1)\n",
        "ax4.set_title('Binarizada OpenCV, Otsu')\n",
        "\n",
        "# Imagen binarizada (embebida - Mediana) - Parámetros: Imag_original,valor_máximo,método adaptativo,tipo de umbral,tamaño de bloque,C\n",
        "ax4=plt.subplot(224)\n",
        "thresh = cv.adaptiveThreshold(img,255,cv.ADAPTIVE_THRESH_MEAN_C, cv.THRESH_BINARY, 11, 2)\n",
        "ax4.imshow(thresh,cmap='gray', vmin=0, vmax=1)\n",
        "ax4.set_title('Binarizada OpenCV, Mediana')\n",
        "\n",
        "plt.show()"
      ],
      "metadata": {
        "colab": {
          "base_uri": "https://localhost:8080/",
          "height": 247
        },
        "id": "QIepEoW46qLA",
        "outputId": "a449e809-1b3b-4e81-be59-1aeac0301664"
      },
      "execution_count": 8,
      "outputs": [
        {
          "output_type": "display_data",
          "data": {
            "text/plain": [
              "<Figure size 432x288 with 4 Axes>"
            ],
            "image/png": "[encoded data removed]"
          },
          "metadata": {
            "needs_background": "light"
          }
        }
      ]
    }
  ]
}